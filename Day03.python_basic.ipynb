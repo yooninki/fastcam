{
 "cells": [
  {
   "cell_type": "code",
   "execution_count": null,
   "metadata": {
    "collapsed": true
   },
   "outputs": [],
   "source": [
    "def summation(a,b):\n",
    "    result = a + b\n",
    "    return result\n",
    "\n",
    "summation(a,b)"
   ]
  },
  {
   "cell_type": "code",
   "execution_count": null,
   "metadata": {
    "collapsed": true
   },
   "outputs": [],
   "source": [
    "def multiply(a,b):\n",
    "    result = a * b\n",
    "    return result\n",
    "\n",
    "multiply(int(input()),int(input()))"
   ]
  },
  {
   "cell_type": "code",
   "execution_count": null,
   "metadata": {
    "collapsed": true
   },
   "outputs": [],
   "source": [
    "def print_hello():\n",
    "    return \"Hello python!\""
   ]
  },
  {
   "cell_type": "code",
   "execution_count": null,
   "metadata": {
    "collapsed": true
   },
   "outputs": [],
   "source": [
    "print_hello()"
   ]
  },
  {
   "cell_type": "code",
   "execution_count": null,
   "metadata": {
    "collapsed": true
   },
   "outputs": [],
   "source": [
    "def print_hello_2():\n",
    "    hello = \"Hello python again!\"\n",
    "    return hello"
   ]
  },
  {
   "cell_type": "code",
   "execution_count": null,
   "metadata": {
    "collapsed": true
   },
   "outputs": [],
   "source": [
    "print_hello_2()"
   ]
  },
  {
   "cell_type": "code",
   "execution_count": null,
   "metadata": {
    "collapsed": true
   },
   "outputs": [],
   "source": [
    "def func_wo_return(a):\n",
    "    print(\"This is function without return!!\".format(a))"
   ]
  },
  {
   "cell_type": "code",
   "execution_count": null,
   "metadata": {
    "collapsed": true
   },
   "outputs": [],
   "source": [
    "func_wo_return(\"without\")"
   ]
  },
  {
   "cell_type": "code",
   "execution_count": null,
   "metadata": {
    "collapsed": true
   },
   "outputs": [],
   "source": [
    "some_string = print_hello()\n"
   ]
  },
  {
   "cell_type": "code",
   "execution_count": null,
   "metadata": {
    "collapsed": true
   },
   "outputs": [],
   "source": [
    "another_string = func_wo_return(\"without\")"
   ]
  },
  {
   "cell_type": "code",
   "execution_count": null,
   "metadata": {
    "collapsed": true
   },
   "outputs": [],
   "source": [
    "another_string"
   ]
  },
  {
   "cell_type": "code",
   "execution_count": null,
   "metadata": {
    "collapsed": true
   },
   "outputs": [],
   "source": [
    "some_string"
   ]
  },
  {
   "cell_type": "code",
   "execution_count": null,
   "metadata": {
    "collapsed": true
   },
   "outputs": [],
   "source": [
    "some_list = [2,3,1]\n",
    "some_list.sort()"
   ]
  },
  {
   "cell_type": "code",
   "execution_count": null,
   "metadata": {
    "collapsed": true
   },
   "outputs": [],
   "source": [
    "def multiple_return(a):\n",
    "    b = a + 1024\n",
    "    return a, b\n",
    "\n",
    "def multiple_multiply():\n",
    "    result = x * y\n",
    "    return result"
   ]
  },
  {
   "cell_type": "code",
   "execution_count": null,
   "metadata": {
    "collapsed": true
   },
   "outputs": [],
   "source": [
    "x, y = multiple_return(-20)\n",
    "print(x,y)"
   ]
  },
  {
   "cell_type": "code",
   "execution_count": null,
   "metadata": {
    "collapsed": true
   },
   "outputs": [],
   "source": [
    "multiple_multiply()"
   ]
  },
  {
   "cell_type": "code",
   "execution_count": null,
   "metadata": {
    "collapsed": true,
    "scrolled": true
   },
   "outputs": [],
   "source": [
    "def id_check(username):\n",
    "    if username == \"admin\":\n",
    "        return \"invalid username: {}\".format(username)\n",
    "\n",
    "    # return 을 중간에 써서 함수를 끝내버린다...\n",
    "    # while 문의 break 와 같은 논리\n",
    "    else:\n",
    "        print(\"valid username: {}\". format(username))\n",
    "    print(\"anything else?\")\n",
    "\n",
    "username = input(\"Enter username?  \")\n",
    "id_check(username)"
   ]
  },
  {
   "cell_type": "code",
   "execution_count": null,
   "metadata": {
    "collapsed": true
   },
   "outputs": [],
   "source": [
    "def say_hello(name = \"Fool\"):\n",
    "    return \"Hi, {}\".format(name)\n",
    "\n",
    "say_hello()"
   ]
  },
  {
   "cell_type": "code",
   "execution_count": null,
   "metadata": {
    "collapsed": true
   },
   "outputs": [],
   "source": [
    "def say_hello(name):\n",
    "    return \"Hi, {}\".format(name)\n",
    "\n",
    "say_hello(\"fastcampus\")"
   ]
  },
  {
   "cell_type": "code",
   "execution_count": 1,
   "metadata": {},
   "outputs": [
    {
     "data": {
      "text/plain": [
       "'Hi, name. And you are not fool.'"
      ]
     },
     "execution_count": 1,
     "metadata": {},
     "output_type": "execute_result"
    }
   ],
   "source": [
    "def say_hello(name = \"Fool\"):\n",
    "    #기본값을 아래 함수에서 바꿀수 있다.\n",
    "    if name == \"Fool\":\n",
    "        return \"Oh, You are {}\".format(name)\n",
    "    else:\n",
    "        return \"Hi, {}. And you are not fool.\".format(name)\n",
    "\n",
    "\n",
    "say_hello(\"name\")\n",
    "\n"
   ]
  },
  {
   "cell_type": "code",
   "execution_count": null,
   "metadata": {
    "collapsed": true
   },
   "outputs": [],
   "source": [
    "def say_hello(a, name):\n",
    "    if name == \"Fool\":\n",
    "        return \"Oh, You are {}{}\".format(a,name)\n",
    "    else:\n",
    "        return \"Hi, {}{}. And you are not fool.\".format(a,name)\n",
    "\n",
    "name = input(\"Enter Name   \")\n",
    "\n",
    "say_hello(2,name)"
   ]
  },
  {
   "cell_type": "code",
   "execution_count": 20,
   "metadata": {
    "collapsed": true
   },
   "outputs": [],
   "source": [
    "def multiple_sum(*args):\n",
    "# args 안에 어려가지 쓸수 있음\n",
    "    sum_= 0\n",
    "    for i in args:\n",
    "        sum_ += i\n",
    "    return sum_"
   ]
  },
  {
   "cell_type": "code",
   "execution_count": 21,
   "metadata": {},
   "outputs": [
    {
     "data": {
      "text/plain": [
       "22225"
      ]
     },
     "execution_count": 21,
     "metadata": {},
     "output_type": "execute_result"
    }
   ],
   "source": [
    "multiple_sum(1,22222,2)"
   ]
  },
  {
   "cell_type": "code",
   "execution_count": 22,
   "metadata": {},
   "outputs": [
    {
     "data": {
      "text/plain": [
       "2"
      ]
     },
     "execution_count": 22,
     "metadata": {},
     "output_type": "execute_result"
    }
   ],
   "source": [
    "multiple_sum(2)"
   ]
  },
  {
   "cell_type": "code",
   "execution_count": 16,
   "metadata": {
    "collapsed": true
   },
   "outputs": [],
   "source": [
    "multiple_sum()"
   ]
  },
  {
   "cell_type": "code",
   "execution_count": 1,
   "metadata": {
    "collapsed": true
   },
   "outputs": [],
   "source": [
    "def multiple_multiply(*args):\n",
    "    multiple_= 1\n",
    "    for i in args:\n",
    "        multiple_ *= i\n",
    "    return multiple_"
   ]
  },
  {
   "cell_type": "code",
   "execution_count": 2,
   "metadata": {},
   "outputs": [
    {
     "data": {
      "text/plain": [
       "48"
      ]
     },
     "execution_count": 2,
     "metadata": {},
     "output_type": "execute_result"
    }
   ],
   "source": [
    "multiple_multiply(1,2,3,4,1,2,1)"
   ]
  },
  {
   "cell_type": "code",
   "execution_count": 3,
   "metadata": {
    "collapsed": true
   },
   "outputs": [],
   "source": [
    "def multiple_multiply(*dogs):\n",
    "    result = 1\n",
    "    for i in dogs:\n",
    "        result = result * i # result *= i\n",
    "    return result"
   ]
  },
  {
   "cell_type": "markdown",
   "metadata": {},
   "source": []
  },
  {
   "cell_type": "code",
   "execution_count": 4,
   "metadata": {},
   "outputs": [
    {
     "data": {
      "text/plain": [
       "120"
      ]
     },
     "execution_count": 4,
     "metadata": {},
     "output_type": "execute_result"
    }
   ],
   "source": [
    "multiple_multiply(1,2,3,4,5)"
   ]
  },
  {
   "cell_type": "code",
   "execution_count": 34,
   "metadata": {
    "collapsed": true
   },
   "outputs": [],
   "source": [
    "def show_kwargs(**kwargs):\n",
    "    return str(kwargs)\n",
    "    "
   ]
  },
  {
   "cell_type": "code",
   "execution_count": 35,
   "metadata": {},
   "outputs": [
    {
     "data": {
      "text/plain": [
       "'{}'"
      ]
     },
     "execution_count": 35,
     "metadata": {},
     "output_type": "execute_result"
    }
   ],
   "source": [
    "show_kwargs()"
   ]
  },
  {
   "cell_type": "code",
   "execution_count": 36,
   "metadata": {},
   "outputs": [
    {
     "data": {
      "text/plain": [
       "\"{'a': 10, 'b': True}\""
      ]
     },
     "execution_count": 36,
     "metadata": {},
     "output_type": "execute_result"
    }
   ],
   "source": [
    "show_kwargs(a = 10, b = True)"
   ]
  },
  {
   "cell_type": "code",
   "execution_count": 39,
   "metadata": {},
   "outputs": [
    {
     "data": {
      "text/plain": [
       "'http://localhost:8080?utm_soruce=google&keyword=naver&'"
      ]
     },
     "execution_count": 39,
     "metadata": {},
     "output_type": "execute_result"
    }
   ],
   "source": [
    "def kwargs_url(server, port, **query):\n",
    "    url = \"http://\" + server + \":\" + port + \"?\"\n",
    "    for key in query.keys():\n",
    "        url += key + \"=\" + query[key] + \"&\"\n",
    "    return url \n",
    "\n",
    "kwargs_url(\"localhost\",\"8080\", utm_soruce=\"google\", keyword=\"naver\")"
   ]
  },
  {
   "cell_type": "code",
   "execution_count": 44,
   "metadata": {},
   "outputs": [
    {
     "data": {
      "text/plain": [
       "'http://finance.yahoo.com:443/lookup?s=APPLE&ie=utf-8&'"
      ]
     },
     "execution_count": 44,
     "metadata": {},
     "output_type": "execute_result"
    }
   ],
   "source": [
    "def kwargs_url(server, port, **query):\n",
    "    url = \"http://\" + server + \":\" + port + \"/lookup?\"\n",
    "    \n",
    "    for key in query.keys():\n",
    "        url = url + key + \"=\" + query[key] + \"&\"\n",
    "        \n",
    "    \n",
    "    return url\n",
    "kwargs_url(\"finance.yahoo.com\",\"443\", s=\"APPLE\",ie=\"utf-8\")"
   ]
  },
  {
   "cell_type": "code",
   "execution_count": 54,
   "metadata": {},
   "outputs": [
    {
     "data": {
      "text/plain": [
       "'http://search.naver.com:search.naver?where=nexearch&sm=top_hty&fbm=1&ie=utf8&query=맨시티'"
      ]
     },
     "execution_count": 54,
     "metadata": {},
     "output_type": "execute_result"
    }
   ],
   "source": [
    "def naver(server, port, **search):\n",
    "    url = \"http://\" + server + \":\" + port + \"?\"\n",
    "    \n",
    "    for key in search.keys():\n",
    "        url = url + key + \"=\" + search[key] + \"&\"\n",
    "        \n",
    "        \n",
    "    return url[:-1]\n",
    "naver(\"search.naver.com\",\"search.naver\",where = \"nexearch\", sm = \"top_hty\", fbm=\"1\",ie =\"utf8\", query = \"맨시티\")"
   ]
  },
  {
   "cell_type": "code",
   "execution_count": 70,
   "metadata": {},
   "outputs": [
    {
     "name": "stdout",
     "output_type": "stream",
     "text": [
      "hello world\n"
     ]
    }
   ],
   "source": [
    "a = \"hello\"\n",
    "def glob_test(a):\n",
    "    a += \" world\"\n",
    "    return a    \n",
    "\n",
    "a = glob_test(a)    #추천\n",
    "\n",
    "print(a)\n"
   ]
  },
  {
   "cell_type": "code",
   "execution_count": 71,
   "metadata": {},
   "outputs": [
    {
     "name": "stdout",
     "output_type": "stream",
     "text": [
      "hello world\n"
     ]
    },
    {
     "data": {
      "text/plain": [
       "'hello world'"
      ]
     },
     "execution_count": 71,
     "metadata": {},
     "output_type": "execute_result"
    }
   ],
   "source": [
    "print(a)\n",
    "a = \"hello\"\n",
    "def complete_hello(x):\n",
    "    x+=\" world\"\n",
    "    return x\n",
    "\n",
    "complete_hello(a)"
   ]
  },
  {
   "cell_type": "code",
   "execution_count": 72,
   "metadata": {},
   "outputs": [
    {
     "name": "stdout",
     "output_type": "stream",
     "text": [
      "hello \n",
      "hello python\n"
     ]
    }
   ],
   "source": [
    "a= \"hello \"\n",
    "print(a)\n",
    "def awful_glob():\n",
    "    global a    #비추\n",
    "    a += \"python\"\n",
    "    \n",
    "awful_glob()\n",
    "\n",
    "print(a)"
   ]
  },
  {
   "cell_type": "code",
   "execution_count": 83,
   "metadata": {},
   "outputs": [
    {
     "name": "stdout",
     "output_type": "stream",
     "text": [
      "Type is the year :  2100\n",
      "평년입니다.\n"
     ]
    }
   ],
   "source": [
    "def is_leap(n):\n",
    "    if n % 400 == 0:\n",
    "        print(\"윤년입니다.\")\n",
    "    elif n % 100 == 0:\n",
    "        print(\"평년입니다.\")\n",
    "    elif n % 4 == 0:\n",
    "        print(\"윤년입니다.\")\n",
    "    else:\n",
    "        print(\"평년입니다.\")\n",
    "\n",
    "year = int(input(\"Type is the year :  \"))\n",
    "is_leap(year)\n"
   ]
  },
  {
   "cell_type": "code",
   "execution_count": 84,
   "metadata": {},
   "outputs": [
    {
     "name": "stdout",
     "output_type": "stream",
     "text": [
      "Type is the year :  1\n"
     ]
    }
   ],
   "source": [
    "def is_leap(n):\n",
    "    if n % 4 == 0:\n",
    "        return \"윤년입니다.\"\n",
    "\n",
    "year = int(input(\"Type is the year :  \"))\n",
    "is_leap(year)\n"
   ]
  },
  {
   "cell_type": "code",
   "execution_count": 126,
   "metadata": {},
   "outputs": [
    {
     "name": "stdout",
     "output_type": "stream",
     "text": [
      "True\n"
     ]
    }
   ],
   "source": [
    "def is_leap2(year):\n",
    "    a = year % 400 ==0\n",
    "    b = year % 100 ==0\n",
    "    \n",
    "    \n",
    "    return print(a==b)\n",
    "\n",
    "is_leap2(4)"
   ]
  },
  {
   "cell_type": "code",
   "execution_count": 131,
   "metadata": {},
   "outputs": [
    {
     "name": "stdout",
     "output_type": "stream",
     "text": [
      "숫자 맞추기 게임을 시작하겠습니다.\n",
      "정답을 입력하세요.\n",
      "종료하시려면 0을 입력하세요.\n",
      "Input >>> : 2\n",
      "정답은 입력하신 2보다 높아요.\n"
     ]
    },
    {
     "ename": "UnboundLocalError",
     "evalue": "local variable 'trial' referenced before assignment",
     "output_type": "error",
     "traceback": [
      "\u001b[1;31m---------------------------------------------------------------------------\u001b[0m",
      "\u001b[1;31mUnboundLocalError\u001b[0m                         Traceback (most recent call last)",
      "\u001b[1;32m<ipython-input-131-2aae31fb475a>\u001b[0m in \u001b[0;36m<module>\u001b[1;34m()\u001b[0m\n\u001b[0;32m     40\u001b[0m                       \"Input >>> : \"))  # 사용자 입력\n\u001b[0;32m     41\u001b[0m     \u001b[1;31m# 0을 입력한 경우 (종료하고 싶다.)\u001b[0m\u001b[1;33m\u001b[0m\u001b[1;33m\u001b[0m\u001b[0m\n\u001b[1;32m---> 42\u001b[1;33m     \u001b[0mguesser\u001b[0m\u001b[1;33m(\u001b[0m\u001b[0mguess\u001b[0m\u001b[1;33m)\u001b[0m\u001b[1;33m\u001b[0m\u001b[0m\n\u001b[0m",
      "\u001b[1;32m<ipython-input-131-2aae31fb475a>\u001b[0m in \u001b[0;36mguesser\u001b[1;34m(guess)\u001b[0m\n\u001b[0;32m     26\u001b[0m \u001b[1;33m\u001b[0m\u001b[0m\n\u001b[0;32m     27\u001b[0m         \u001b[1;31m# 정답을 틀렸을경우 도전기회를 1깎는다.\u001b[0m\u001b[1;33m\u001b[0m\u001b[1;33m\u001b[0m\u001b[0m\n\u001b[1;32m---> 28\u001b[1;33m         \u001b[0mtrial\u001b[0m \u001b[1;33m-=\u001b[0m \u001b[1;36m1\u001b[0m\u001b[1;33m\u001b[0m\u001b[0m\n\u001b[0m\u001b[0;32m     29\u001b[0m \u001b[1;33m\u001b[0m\u001b[0m\n\u001b[0;32m     30\u001b[0m         \u001b[1;31m# 5번의 도전기회를 모두 소모했을경우\u001b[0m\u001b[1;33m\u001b[0m\u001b[1;33m\u001b[0m\u001b[0m\n",
      "\u001b[1;31mUnboundLocalError\u001b[0m: local variable 'trial' referenced before assignment"
     ]
    }
   ],
   "source": [
    "import random\n",
    "\n",
    "\n",
    "answer = random.randint(1, 100)  # 1에서 100 사이의 임의의 정수 추출하여 answer라는 변수에 집어넣는다.\n",
    "trial = 5  # 5라는 정수를 trial이라는 변수에 집어 넣는다. (도전기회를 제한하기 위한 변수)\n",
    "\n",
    "\n",
    "print(\"숫자 맞추기 게임을 시작하겠습니다.\")\n",
    "\n",
    "\n",
    "\n",
    "def guesser(guess):\n",
    "    if guess == 0:  # (guess변수의 값이 0과 같다면)\n",
    "        print('다음에 또 만나요!')\n",
    "    # 정답일 경우\n",
    "    elif guess == answer:  # (guess변수의 값과 answer변수의 값이 같다면)\n",
    "        print(\"정답입니다.!!\")\n",
    "    # 정답이 아닌경우\n",
    "    else:\n",
    "        # 입력값이 정답보다 클경우 (높은경우)\n",
    "        if guess > answer:\n",
    "            print(\"정답은 입력하신 {}보다 낮아요.\".format(guess))\n",
    "        # 입력값이 정답보다 작을경우 (낮은경우)\n",
    "        else:\n",
    "            print(\"정답은 입력하신 {}보다 높아요.\".format(guess))\n",
    "\n",
    "        # 정답을 틀렸을경우 도전기회를 1깎는다.\n",
    "        trial -= 1\n",
    "\n",
    "        # 5번의 도전기회를 모두 소모했을경우\n",
    "        if trial == 0:  # (trial변수의 값이 0과 같다면)\n",
    "            print(\"5번의 도전기회를 모두 소모 하셨습니다.\\n\"\n",
    "                  \"정답은 {}입니다. 까비\".format(answer))\n",
    "        # 5번의 도전기회를 모두 소모하지 않은경우 (도전기회가 남았다.)\n",
    "        else:\n",
    "            print(\"{}번 남았어요!!\".format(trial))\n",
    "\n",
    "while trial > 0:\n",
    "    guess = int(input(\"정답을 입력하세요.\\n\"\n",
    "                      \"종료하시려면 0을 입력하세요.\\n\"\n",
    "                      \"Input >>> : \"))  # 사용자 입력\n",
    "    # 0을 입력한 경우 (종료하고 싶다.)\n",
    "    guesser(guess)"
   ]
  },
  {
   "cell_type": "code",
   "execution_count": null,
   "metadata": {
    "collapsed": true
   },
   "outputs": [],
   "source": []
  },
  {
   "cell_type": "code",
   "execution_count": null,
   "metadata": {
    "collapsed": true
   },
   "outputs": [],
   "source": []
  },
  {
   "cell_type": "code",
   "execution_count": null,
   "metadata": {
    "collapsed": true
   },
   "outputs": [],
   "source": []
  },
  {
   "cell_type": "code",
   "execution_count": null,
   "metadata": {
    "collapsed": true
   },
   "outputs": [],
   "source": []
  },
  {
   "cell_type": "code",
   "execution_count": 132,
   "metadata": {},
   "outputs": [
    {
     "name": "stdout",
     "output_type": "stream",
     "text": [
      "hello world!\n",
      "hello world!\n",
      "hello world!\n",
      "hello world!\n",
      "hello world!\n"
     ]
    }
   ],
   "source": [
    "for i in range(1,5+1):\n",
    "    print(\"hello world!\")"
   ]
  },
  {
   "cell_type": "code",
   "execution_count": 142,
   "metadata": {
    "collapsed": true
   },
   "outputs": [],
   "source": [
    "def print_hello(trial):\n",
    "    print(\"hello world\")\n",
    "    if trial == 1:\n",
    "        return\n",
    "    return print_hello(trial - 1)"
   ]
  },
  {
   "cell_type": "code",
   "execution_count": 144,
   "metadata": {},
   "outputs": [
    {
     "name": "stdout",
     "output_type": "stream",
     "text": [
      "hello world\n",
      "hello world\n"
     ]
    }
   ],
   "source": [
    "print_hello(2)"
   ]
  },
  {
   "cell_type": "code",
   "execution_count": 1,
   "metadata": {},
   "outputs": [
    {
     "name": "stdout",
     "output_type": "stream",
     "text": [
      "How many times want to curse the beast??:  4\n",
      "Fusion!!!(3 times left)\n",
      "Fusion!!!(2 times left)\n",
      "Fusion!!!(1 times left)\n",
      "Fusion!!!(0 times left)\n",
      "curse complete!\n"
     ]
    }
   ],
   "source": [
    "times = int(input(\"How many times want to curse the beast??:  \"))\n",
    "def recurse_beast(a):\n",
    "    if a == 0:\n",
    "        print(\"curse complete!\")\n",
    "    else:\n",
    "        print(\"Fusion!!!({} times left)\".format(a-1))\n",
    "        return recurse_beast(a-1)\n",
    "        \n",
    "        \n",
    "recurse_beast(times)"
   ]
  },
  {
   "cell_type": "code",
   "execution_count": 157,
   "metadata": {},
   "outputs": [
    {
     "data": {
      "text/plain": [
       "[2, 4, 6, 8, 10]"
      ]
     },
     "execution_count": 157,
     "metadata": {},
     "output_type": "execute_result"
    }
   ],
   "source": [
    "old_list = [1,2,3,4,5]\n",
    "\n",
    "doubled_list = []\n",
    "for i in old_list:\n",
    "    doubled_list.append(i * 2)\n",
    "doubled_list"
   ]
  },
  {
   "cell_type": "code",
   "execution_count": 160,
   "metadata": {},
   "outputs": [
    {
     "data": {
      "text/plain": [
       "[2, 4, 6, 8, 10]"
      ]
     },
     "execution_count": 160,
     "metadata": {},
     "output_type": "execute_result"
    }
   ],
   "source": [
    "old_list = [1,2,3,4,5]\n",
    "double_list = [i * 2 for i in old_list]\n",
    "doubled_list"
   ]
  },
  {
   "cell_type": "code",
   "execution_count": 167,
   "metadata": {
    "collapsed": true
   },
   "outputs": [],
   "source": [
    "import numpy as np\n",
    "np.oldlist = [1,2,3,4,5]"
   ]
  },
  {
   "cell_type": "code",
   "execution_count": 174,
   "metadata": {},
   "outputs": [
    {
     "data": {
      "text/plain": [
       "array([ 2,  4,  6,  8, 10])"
      ]
     },
     "execution_count": 174,
     "metadata": {},
     "output_type": "execute_result"
    }
   ],
   "source": [
    "np.multiply(np.oldlist,2)"
   ]
  },
  {
   "cell_type": "code",
   "execution_count": 169,
   "metadata": {
    "collapsed": true
   },
   "outputs": [],
   "source": [
    "tripled_list = [i*3 for i in old_list]"
   ]
  },
  {
   "cell_type": "code",
   "execution_count": 170,
   "metadata": {},
   "outputs": [
    {
     "data": {
      "text/plain": [
       "[3, 6, 9, 12, 15]"
      ]
     },
     "execution_count": 170,
     "metadata": {},
     "output_type": "execute_result"
    }
   ],
   "source": [
    "tripled_list"
   ]
  },
  {
   "cell_type": "code",
   "execution_count": 176,
   "metadata": {},
   "outputs": [
    {
     "data": {
      "text/plain": [
       "[4, 8]"
      ]
     },
     "execution_count": 176,
     "metadata": {},
     "output_type": "execute_result"
    }
   ],
   "source": [
    "old_list = [1,2,3,4,5]\n",
    "\n",
    "new_doubled_list = []\n",
    "for i in old_list:\n",
    "    if i%2 ==0:\n",
    "        new_doubled_list.append(i*2)\n",
    "new_doubled_list"
   ]
  },
  {
   "cell_type": "code",
   "execution_count": 177,
   "metadata": {
    "collapsed": true
   },
   "outputs": [],
   "source": [
    "new_doubled_list_ = [i*2 for i in old_list if i % 2 ==0]"
   ]
  },
  {
   "cell_type": "code",
   "execution_count": 178,
   "metadata": {},
   "outputs": [
    {
     "data": {
      "text/plain": [
       "[4, 8]"
      ]
     },
     "execution_count": 178,
     "metadata": {},
     "output_type": "execute_result"
    }
   ],
   "source": [
    "new_doubled_list"
   ]
  },
  {
   "cell_type": "code",
   "execution_count": 179,
   "metadata": {
    "collapsed": true
   },
   "outputs": [],
   "source": [
    "f = open('new_file.txt','w')\n",
    "\n",
    "f.close()"
   ]
  },
  {
   "cell_type": "code",
   "execution_count": 189,
   "metadata": {
    "collapsed": true
   },
   "outputs": [],
   "source": [
    "f = open('new_file.txt', 'a')\n",
    "for i in range(1,10+1):\n",
    "    txt = \"new_line no.{}\".format(i)\n",
    "    f.write(txt)\n",
    "f.close()"
   ]
  },
  {
   "cell_type": "code",
   "execution_count": 190,
   "metadata": {
    "collapsed": true
   },
   "outputs": [],
   "source": [
    "f = open('new_file.txt', 'r')\n",
    "f.close()"
   ]
  },
  {
   "cell_type": "code",
   "execution_count": 191,
   "metadata": {
    "collapsed": true
   },
   "outputs": [],
   "source": [
    "f = open('new_file.txt', 'a')\n",
    "for i in range(21,30+1):\n",
    "    txt = \"Brand new_line no.{}\".format(i)\n",
    "    f.write(txt)\n",
    "f.close()"
   ]
  },
  {
   "cell_type": "code",
   "execution_count": 194,
   "metadata": {},
   "outputs": [
    {
     "name": "stdout",
     "output_type": "stream",
     "text": [
      "new_line no.1new_line no.2new_line no.3new_line no.4new_line no.5new_line no.6new_line no.7new_line no.8new_line no.9new_line no.10Brand new_line no.21Brand new_line no.22Brand new_line no.23Brand new_line no.24Brand new_line no.25Brand new_line no.26Brand new_line no.27Brand new_line no.28Brand new_line no.29Brand new_line no.30\n"
     ]
    }
   ],
   "source": [
    "f = open('new_file.txt', 'r')\n",
    "\n",
    "while True:\n",
    "    text = f.readline()\n",
    "    if not text:\n",
    "        break\n",
    "    print(text)\n",
    "f.close()"
   ]
  },
  {
   "cell_type": "code",
   "execution_count": 195,
   "metadata": {},
   "outputs": [
    {
     "name": "stdout",
     "output_type": "stream",
     "text": [
      "new_line no.1new_line no.2new_line no.3new_line no.4new_line no.5new_line no.6new_line no.7new_line no.8new_line no.9new_line no.10Brand new_line no.21Brand new_line no.22Brand new_line no.23Brand new_line no.24Brand new_line no.25Brand new_line no.26Brand new_line no.27Brand new_line no.28Brand new_line no.29Brand new_line no.30\n"
     ]
    }
   ],
   "source": [
    "f = open('new_file.txt', 'r')\n",
    "for text in f.readlines():\n",
    "    print(text)\n",
    "f.close()"
   ]
  },
  {
   "cell_type": "code",
   "execution_count": 198,
   "metadata": {
    "collapsed": true
   },
   "outputs": [],
   "source": [
    "with open(\"new_file.txt\",'w') as f:\n",
    "    f.write(\"hahahahahah\")"
   ]
  },
  {
   "cell_type": "code",
   "execution_count": null,
   "metadata": {
    "collapsed": true
   },
   "outputs": [],
   "source": []
  },
  {
   "cell_type": "code",
   "execution_count": null,
   "metadata": {
    "collapsed": true
   },
   "outputs": [],
   "source": []
  },
  {
   "cell_type": "code",
   "execution_count": null,
   "metadata": {
    "collapsed": true
   },
   "outputs": [],
   "source": []
  },
  {
   "cell_type": "code",
   "execution_count": 199,
   "metadata": {
    "collapsed": true
   },
   "outputs": [],
   "source": [
    "try:\n",
    "    pass\n",
    "except:\n",
    "    pass\n"
   ]
  },
  {
   "cell_type": "code",
   "execution_count": 205,
   "metadata": {},
   "outputs": [
    {
     "name": "stdout",
     "output_type": "stream",
     "text": [
      "Type Number:  1\n"
     ]
    }
   ],
   "source": [
    "try:\n",
    "    int(input(\"Type Number:  \"))\n",
    "except:\n",
    "    print(input(\"I said Number!!!\"))\n",
    "    int(input(\"Type Number:  \"))\n",
    "    "
   ]
  },
  {
   "cell_type": "code",
   "execution_count": 208,
   "metadata": {},
   "outputs": [
    {
     "name": "stdout",
     "output_type": "stream",
     "text": [
      "hahahahahah\n"
     ]
    }
   ],
   "source": [
    "try:\n",
    "    f = open('new_file.txt', 'r')\n",
    "except FileNotFoundError as e:\n",
    "    print(e)\n",
    "else:\n",
    "    print(f.readline())\n",
    "    f.close()"
   ]
  },
  {
   "cell_type": "code",
   "execution_count": null,
   "metadata": {
    "collapsed": true
   },
   "outputs": [],
   "source": []
  },
  {
   "cell_type": "code",
   "execution_count": null,
   "metadata": {
    "collapsed": true
   },
   "outputs": [],
   "source": []
  },
  {
   "cell_type": "code",
   "execution_count": null,
   "metadata": {
    "collapsed": true
   },
   "outputs": [],
   "source": []
  },
  {
   "cell_type": "code",
   "execution_count": 230,
   "metadata": {},
   "outputs": [
    {
     "name": "stdout",
     "output_type": "stream",
     "text": [
      "6      14    stuck   ---\n",
      "3      28    stuck   ---\n",
      "1      56     keep     56\n",
      "--> 1  +  56  =  84\n"
     ]
    }
   ],
   "source": [
    "def EgyptMul(a,b):\n",
    "    sum = 0\n",
    "    while a != 1:\n",
    "        if a % 2 == 0:\n",
    "            a = a // 2 \n",
    "            b = b * 2\n",
    "            print(a,\"    \",b,\"   stuck\",\"  ---\")\n",
    "\n",
    "        else: \n",
    "            a = a // 2\n",
    "            sum = sum+b\n",
    "            b = b * 2\n",
    "            print(a,\"    \",b,\"    keep\",\"   \",b)\n",
    "            \n",
    "    print(\"-->\",a,\" + \",b,\" = \",b+sum)\n",
    "\n",
    "EgyptMul(12,7)"
   ]
  },
  {
   "cell_type": "code",
   "execution_count": 215,
   "metadata": {},
   "outputs": [
    {
     "data": {
      "text/plain": [
       "2"
      ]
     },
     "execution_count": 215,
     "metadata": {},
     "output_type": "execute_result"
    }
   ],
   "source": [
    "def"
   ]
  },
  {
   "cell_type": "code",
   "execution_count": null,
   "metadata": {
    "collapsed": true
   },
   "outputs": [],
   "source": []
  },
  {
   "cell_type": "code",
   "execution_count": null,
   "metadata": {
    "collapsed": true
   },
   "outputs": [],
   "source": []
  },
  {
   "cell_type": "code",
   "execution_count": null,
   "metadata": {
    "collapsed": true
   },
   "outputs": [],
   "source": []
  },
  {
   "cell_type": "code",
   "execution_count": null,
   "metadata": {
    "collapsed": true
   },
   "outputs": [],
   "source": []
  },
  {
   "cell_type": "code",
   "execution_count": null,
   "metadata": {
    "collapsed": true
   },
   "outputs": [],
   "source": []
  }
 ],
 "metadata": {
  "kernelspec": {
   "display_name": "Python 3",
   "language": "python",
   "name": "python3"
  },
  "language_info": {
   "codemirror_mode": {
    "name": "ipython",
    "version": 3
   },
   "file_extension": ".py",
   "mimetype": "text/x-python",
   "name": "python",
   "nbconvert_exporter": "python",
   "pygments_lexer": "ipython3",
   "version": "3.6.3"
  }
 },
 "nbformat": 4,
 "nbformat_minor": 2
}
